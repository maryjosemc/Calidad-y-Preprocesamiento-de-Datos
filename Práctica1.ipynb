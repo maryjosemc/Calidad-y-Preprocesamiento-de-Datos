{
  "nbformat": 4,
  "nbformat_minor": 0,
  "metadata": {
    "colab": {
      "name": "Untitled5.ipynb",
      "provenance": [],
      "collapsed_sections": []
    },
    "kernelspec": {
      "name": "python3",
      "display_name": "Python 3"
    }
  },
  "cells": [
    {
      "cell_type": "markdown",
      "metadata": {
        "id": "lFeAhaOxtB92",
        "colab_type": "text"
      },
      "source": [
        "#Práctica 1\n",
        "##Implementing a Data Warehouse with Django\n",
        "####Mary José Martínez Castillo\n",
        "\n",
        "\n",
        "####¿Qué es el Data Warehouse?\n",
        "\n",
        "Un Data Warehouse es un gran almacén de datos e información que, además, recoge todos aquellos que son realmente necesarios para la realización de análisis e informes relacionado con el Business Intelligence (BI). Una parte fundamental en la toma de decisiones de las grandes empresas a la hora de establecer objetivos, establecer normativas y plantear riesgos.\n",
        "\n",
        "Un almacén de datos centraliza y consolida grandes cantidades de datos de varias fuentes. Con el tiempo, crea un registro histórico que puede llegar a tener un valor incalculable para los científicos de datos y los analistas del negocio. \n",
        "\n",
        "##Evidencia de la práctica\n",
        "\n",
        "###Imágen 1:\n",
        "https://drive.google.com/file/d/1Ie7hrhRjdApOWRXw_GfG4gZGBn0xeGsK/view?usp=sharing\n",
        "\n",
        "###Imágen 2:\n",
        "https://drive.google.com/file/d/101DIWbxVKxX9edYvlXHE4RFirDzO6fwX/view?usp=sharing\n",
        "\n",
        "###Imágen 3:\n",
        "https://drive.google.com/open?id=1GwvMlyHQnFeRSJxZlty8Bbf5I2wmCBUN\n",
        "\n",
        "###Imágen 4:\n",
        "https://drive.google.com/open?id=1cEG_w8sXDHTD7mOTyTCCd1ybLyNm6ZLU\n"
      ]
    }
  ]
}