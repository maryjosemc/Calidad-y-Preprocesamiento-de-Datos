{
 "cells": [
  {
   "cell_type": "markdown",
   "metadata": {},
   "source": [
    "# Práctica 4b: \"Gastos por Persona en México\""
   ]
  },
  {
   "cell_type": "code",
   "execution_count": 1,
   "metadata": {},
   "outputs": [
    {
     "name": "stderr",
     "output_type": "stream",
     "text": [
      "C:\\Users\\MaryJose03\\anaconda3\\lib\\site-packages\\IPython\\core\\interactiveshell.py:3063: DtypeWarning: Columns (6,15,16,17,18,19) have mixed types.Specify dtype option on import or set low_memory=False.\n",
      "  interactivity=interactivity, compiler=compiler, result=result)\n"
     ]
    },
    {
     "data": {
      "text/html": [
       "<div>\n",
       "<style scoped>\n",
       "    .dataframe tbody tr th:only-of-type {\n",
       "        vertical-align: middle;\n",
       "    }\n",
       "\n",
       "    .dataframe tbody tr th {\n",
       "        vertical-align: top;\n",
       "    }\n",
       "\n",
       "    .dataframe thead th {\n",
       "        text-align: right;\n",
       "    }\n",
       "</style>\n",
       "<table border=\"1\" class=\"dataframe\">\n",
       "  <thead>\n",
       "    <tr style=\"text-align: right;\">\n",
       "      <th></th>\n",
       "      <th>ï»¿folioviv</th>\n",
       "      <th>foliohog</th>\n",
       "      <th>numren</th>\n",
       "      <th>clave</th>\n",
       "      <th>tipo_gasto</th>\n",
       "      <th>mes_dia</th>\n",
       "      <th>frec_rem</th>\n",
       "      <th>inst</th>\n",
       "      <th>forma_pag1</th>\n",
       "      <th>forma_pag2</th>\n",
       "      <th>forma_pag3</th>\n",
       "      <th>inscrip</th>\n",
       "      <th>colegia</th>\n",
       "      <th>material</th>\n",
       "      <th>cantidad</th>\n",
       "      <th>gasto</th>\n",
       "      <th>costo</th>\n",
       "      <th>gasto_tri</th>\n",
       "      <th>gasto_nm</th>\n",
       "      <th>gas_nm_tri</th>\n",
       "    </tr>\n",
       "  </thead>\n",
       "  <tbody>\n",
       "    <tr>\n",
       "      <th>0</th>\n",
       "      <td>100027202</td>\n",
       "      <td>1</td>\n",
       "      <td>2</td>\n",
       "      <td>J016</td>\n",
       "      <td>G4</td>\n",
       "      <td>0</td>\n",
       "      <td>8</td>\n",
       "      <td></td>\n",
       "      <td>0</td>\n",
       "      <td>0</td>\n",
       "      <td>0</td>\n",
       "      <td></td>\n",
       "      <td></td>\n",
       "      <td></td>\n",
       "      <td></td>\n",
       "      <td></td>\n",
       "      <td>1500</td>\n",
       "      <td></td>\n",
       "      <td>1500</td>\n",
       "      <td>1467.39</td>\n",
       "    </tr>\n",
       "    <tr>\n",
       "      <th>1</th>\n",
       "      <td>100027202</td>\n",
       "      <td>1</td>\n",
       "      <td>2</td>\n",
       "      <td>J031</td>\n",
       "      <td>G4</td>\n",
       "      <td>0</td>\n",
       "      <td>8</td>\n",
       "      <td></td>\n",
       "      <td>0</td>\n",
       "      <td>0</td>\n",
       "      <td>0</td>\n",
       "      <td></td>\n",
       "      <td></td>\n",
       "      <td></td>\n",
       "      <td></td>\n",
       "      <td></td>\n",
       "      <td>885</td>\n",
       "      <td></td>\n",
       "      <td>885</td>\n",
       "      <td>865.76</td>\n",
       "    </tr>\n",
       "    <tr>\n",
       "      <th>2</th>\n",
       "      <td>100027202</td>\n",
       "      <td>1</td>\n",
       "      <td>2</td>\n",
       "      <td>J035</td>\n",
       "      <td>G4</td>\n",
       "      <td>0</td>\n",
       "      <td>8</td>\n",
       "      <td></td>\n",
       "      <td>0</td>\n",
       "      <td>0</td>\n",
       "      <td>0</td>\n",
       "      <td></td>\n",
       "      <td></td>\n",
       "      <td></td>\n",
       "      <td></td>\n",
       "      <td></td>\n",
       "      <td>439</td>\n",
       "      <td></td>\n",
       "      <td>439</td>\n",
       "      <td>429.45</td>\n",
       "    </tr>\n",
       "    <tr>\n",
       "      <th>3</th>\n",
       "      <td>100045501</td>\n",
       "      <td>1</td>\n",
       "      <td>1</td>\n",
       "      <td>F003</td>\n",
       "      <td>G4</td>\n",
       "      <td>0</td>\n",
       "      <td>8</td>\n",
       "      <td></td>\n",
       "      <td>0</td>\n",
       "      <td>0</td>\n",
       "      <td>0</td>\n",
       "      <td></td>\n",
       "      <td></td>\n",
       "      <td></td>\n",
       "      <td></td>\n",
       "      <td></td>\n",
       "      <td>200</td>\n",
       "      <td></td>\n",
       "      <td>200</td>\n",
       "      <td>580.64</td>\n",
       "    </tr>\n",
       "    <tr>\n",
       "      <th>4</th>\n",
       "      <td>100045505</td>\n",
       "      <td>1</td>\n",
       "      <td>1</td>\n",
       "      <td>H056</td>\n",
       "      <td>G4</td>\n",
       "      <td>0</td>\n",
       "      <td>6</td>\n",
       "      <td></td>\n",
       "      <td>0</td>\n",
       "      <td>0</td>\n",
       "      <td>0</td>\n",
       "      <td></td>\n",
       "      <td></td>\n",
       "      <td></td>\n",
       "      <td></td>\n",
       "      <td></td>\n",
       "      <td>200</td>\n",
       "      <td></td>\n",
       "      <td>200</td>\n",
       "      <td>195.65</td>\n",
       "    </tr>\n",
       "  </tbody>\n",
       "</table>\n",
       "</div>"
      ],
      "text/plain": [
       "   ï»¿folioviv  foliohog  numren clave tipo_gasto  mes_dia frec_rem inst  \\\n",
       "0    100027202         1       2  J016         G4        0        8        \n",
       "1    100027202         1       2  J031         G4        0        8        \n",
       "2    100027202         1       2  J035         G4        0        8        \n",
       "3    100045501         1       1  F003         G4        0        8        \n",
       "4    100045505         1       1  H056         G4        0        6        \n",
       "\n",
       "   forma_pag1  forma_pag2  forma_pag3 inscrip colegia material cantidad gasto  \\\n",
       "0           0           0           0                                           \n",
       "1           0           0           0                                           \n",
       "2           0           0           0                                           \n",
       "3           0           0           0                                           \n",
       "4           0           0           0                                           \n",
       "\n",
       "  costo gasto_tri gasto_nm gas_nm_tri  \n",
       "0  1500               1500    1467.39  \n",
       "1   885                885     865.76  \n",
       "2   439                439     429.45  \n",
       "3   200                200     580.64  \n",
       "4   200                200     195.65  "
      ]
     },
     "execution_count": 1,
     "metadata": {},
     "output_type": "execute_result"
    }
   ],
   "source": [
    "import pandas as pd\n",
    "\n",
    "path = 'gastospersona.csv'\n",
    "df = pd.read_csv(path, encoding='latin', error_bad_lines=False)\n",
    "df.head()"
   ]
  },
  {
   "cell_type": "code",
   "execution_count": 2,
   "metadata": {},
   "outputs": [
    {
     "data": {
      "text/plain": [
       "ï»¿folioviv     int64\n",
       "foliohog        int64\n",
       "numren          int64\n",
       "clave          object\n",
       "tipo_gasto     object\n",
       "mes_dia         int64\n",
       "frec_rem       object\n",
       "inst           object\n",
       "forma_pag1      int64\n",
       "forma_pag2      int64\n",
       "forma_pag3      int64\n",
       "inscrip        object\n",
       "colegia        object\n",
       "material       object\n",
       "cantidad       object\n",
       "gasto          object\n",
       "costo          object\n",
       "gasto_tri      object\n",
       "gasto_nm       object\n",
       "gas_nm_tri     object\n",
       "dtype: object"
      ]
     },
     "execution_count": 2,
     "metadata": {},
     "output_type": "execute_result"
    }
   ],
   "source": [
    "df.dtypes"
   ]
  },
  {
   "cell_type": "code",
   "execution_count": 3,
   "metadata": {},
   "outputs": [
    {
     "data": {
      "text/plain": [
       "((318597, 1), (79650, 1))"
      ]
     },
     "execution_count": 3,
     "metadata": {},
     "output_type": "execute_result"
    }
   ],
   "source": [
    "import pandas as pd\n",
    "from sklearn.preprocessing import StandardScaler\n",
    "from sklearn.model_selection import train_test_split\n",
    "\n",
    "aux=df[['mes_dia']].copy()\n",
    "train_data,test_data=train_test_split(aux,test_size=0.2)\n",
    "train_data.shape,test_data.shape"
   ]
  },
  {
   "cell_type": "markdown",
   "metadata": {},
   "source": [
    "## Estandarizámos"
   ]
  },
  {
   "cell_type": "code",
   "execution_count": 4,
   "metadata": {},
   "outputs": [
    {
     "name": "stdout",
     "output_type": "stream",
     "text": [
      "transformación train:\n",
      "                0\n",
      "0       0.536250\n",
      "1      -2.504460\n",
      "2       0.539228\n",
      "3      -0.056406\n",
      "4       0.238433\n",
      "...          ...\n",
      "318592  0.563053\n",
      "318593  0.506468\n",
      "318594 -2.504460\n",
      "318595  0.214608\n",
      "318596  0.488599\n",
      "\n",
      "[318597 rows x 1 columns]\n",
      "transformación test:\n",
      "               0\n",
      "0     -2.504460\n",
      "1     -2.504460\n",
      "2      0.774503\n",
      "3     -2.504460\n",
      "4      0.178870\n",
      "...         ...\n",
      "79645  0.485621\n",
      "79646  0.476686\n",
      "79647  0.509446\n",
      "79648  0.807263\n",
      "79649  0.178870\n",
      "\n",
      "[79650 rows x 1 columns]\n"
     ]
    }
   ],
   "source": [
    "scaler = StandardScaler()\n",
    "scaler.fit(train_data)\n",
    "\n",
    "print(\"transformación train:\\n\", pd.DataFrame(scaler.transform(train_data)))\n",
    "print(\"transformación test:\\n\", pd.DataFrame(scaler.transform(test_data)))"
   ]
  },
  {
   "cell_type": "markdown",
   "metadata": {},
   "source": [
    "## Vemos medidas de tendencia central"
   ]
  },
  {
   "cell_type": "code",
   "execution_count": 5,
   "metadata": {},
   "outputs": [
    {
     "name": "stdout",
     "output_type": "stream",
     "text": [
      "media: [840.93972009]\n",
      "desviación estándar: [112746.13917684]\n"
     ]
    }
   ],
   "source": [
    "print(\"media:\", scaler.mean_)\n",
    "print(\"desviación estándar:\", scaler.var_)"
   ]
  },
  {
   "cell_type": "markdown",
   "metadata": {},
   "source": [
    "##Aplicamos transformacion logaritmica\n",
    "las transformaciones logarítmicas pueden ajustar la distribución de los datos a una distribución menos sesgada, por ejemplo, de tipo gaussiano."
   ]
  },
  {
   "cell_type": "code",
   "execution_count": 6,
   "metadata": {},
   "outputs": [
    {
     "name": "stdout",
     "output_type": "stream",
     "text": [
      "train:\n",
      "         mes_dia\n",
      "306103     1021\n",
      "109928        0\n",
      "350566     1022\n",
      "129361      822\n",
      "244158      921\n",
      "...         ...\n",
      "326653     1030\n",
      "61399      1011\n",
      "106064        0\n",
      "364241      913\n",
      "357328     1005\n",
      "\n",
      "[318597 rows x 1 columns]\n",
      "transformación train:\n",
      "          mes_dia\n",
      "306103  6.929517\n",
      "109928  0.000000\n",
      "350566  6.930495\n",
      "129361  6.712956\n",
      "244158  6.826545\n",
      "...          ...\n",
      "326653  6.938284\n",
      "61399   6.919684\n",
      "106064  0.000000\n",
      "364241  6.817831\n",
      "357328  6.913737\n",
      "\n",
      "[318597 rows x 1 columns]\n"
     ]
    }
   ],
   "source": [
    "import pandas as pd\n",
    "import numpy as np\n",
    "\n",
    "\n",
    "print(\"train:\\n\", train_data)\n",
    "print(\"transformación train:\\n\", pd.DataFrame(np.log1p(train_data)))"
   ]
  },
  {
   "cell_type": "markdown",
   "metadata": {},
   "source": [
    "## Transformación Yeo-Johnson\n",
    "La transformación de Yeo-Johnson es una función compuesta de transformación que permite valores negativos, a diferencia de la transformación de Box-Cox."
   ]
  },
  {
   "cell_type": "code",
   "execution_count": 7,
   "metadata": {},
   "outputs": [
    {
     "name": "stdout",
     "output_type": "stream",
     "text": [
      "train:\n",
      "         mes_dia\n",
      "306103     1021\n",
      "109928        0\n",
      "350566     1022\n",
      "129361      822\n",
      "244158      921\n",
      "...         ...\n",
      "326653     1030\n",
      "61399      1011\n",
      "106064        0\n",
      "364241      913\n",
      "357328     1005\n",
      "\n",
      "[318597 rows x 1 columns]\n",
      "transformación train:\n",
      "                0\n",
      "0       0.539728\n",
      "1      -2.499835\n",
      "2       0.542792\n",
      "3      -0.068180\n",
      "4       0.233762\n",
      "...          ...\n",
      "318592  0.567309\n",
      "318593  0.509090\n",
      "318594 -2.499835\n",
      "318595  0.209326\n",
      "318596  0.490712\n",
      "\n",
      "[318597 rows x 1 columns]\n",
      "lambdas: [1.02946841]\n",
      "media: 3.229364624841493e-16\n",
      "desviación estándar: 0.9999999999999999\n"
     ]
    }
   ],
   "source": [
    "import pandas as pd\n",
    "import numpy as np\n",
    "from sklearn.preprocessing import PowerTransformer\n",
    "\n",
    "pt = PowerTransformer(method='yeo-johnson')\n",
    "pt.fit(train_data)\n",
    "train_data_trans = pt.transform(train_data)\n",
    "print(\"train:\\n\", train_data)\n",
    "print(\"transformación train:\\n\", pd.DataFrame(train_data_trans))\n",
    "\n",
    "print(\"lambdas:\",pt.lambdas_) # Automatically selected \n",
    "print(\"media:\", np.mean(train_data_trans)) \n",
    "print(\"desviación estándar:\", np.std(train_data_trans))"
   ]
  },
  {
   "cell_type": "markdown",
   "metadata": {},
   "source": [
    "## RankGauss\n",
    "\n",
    "RankGauss es un enfoque para convertir los valores a rangos, y después convierte estos rangos a otro valor numérico siguiendo una distribución Gaussiana"
   ]
  },
  {
   "cell_type": "code",
   "execution_count": 8,
   "metadata": {},
   "outputs": [
    {
     "data": {
      "text/html": [
       "<div>\n",
       "<style scoped>\n",
       "    .dataframe tbody tr th:only-of-type {\n",
       "        vertical-align: middle;\n",
       "    }\n",
       "\n",
       "    .dataframe tbody tr th {\n",
       "        vertical-align: top;\n",
       "    }\n",
       "\n",
       "    .dataframe thead th {\n",
       "        text-align: right;\n",
       "    }\n",
       "</style>\n",
       "<table border=\"1\" class=\"dataframe\">\n",
       "  <thead>\n",
       "    <tr style=\"text-align: right;\">\n",
       "      <th></th>\n",
       "      <th>gasto_tri</th>\n",
       "      <th>gasto_nm</th>\n",
       "    </tr>\n",
       "  </thead>\n",
       "  <tbody>\n",
       "    <tr>\n",
       "      <th>0</th>\n",
       "      <td>19</td>\n",
       "      <td>47</td>\n",
       "    </tr>\n",
       "    <tr>\n",
       "      <th>1</th>\n",
       "      <td>83</td>\n",
       "      <td>76</td>\n",
       "    </tr>\n",
       "    <tr>\n",
       "      <th>2</th>\n",
       "      <td>61</td>\n",
       "      <td>81</td>\n",
       "    </tr>\n",
       "    <tr>\n",
       "      <th>3</th>\n",
       "      <td>6</td>\n",
       "      <td>74</td>\n",
       "    </tr>\n",
       "    <tr>\n",
       "      <th>4</th>\n",
       "      <td>4</td>\n",
       "      <td>70</td>\n",
       "    </tr>\n",
       "    <tr>\n",
       "      <th>5</th>\n",
       "      <td>61</td>\n",
       "      <td>22</td>\n",
       "    </tr>\n",
       "    <tr>\n",
       "      <th>6</th>\n",
       "      <td>70</td>\n",
       "      <td>99</td>\n",
       "    </tr>\n",
       "    <tr>\n",
       "      <th>7</th>\n",
       "      <td>39</td>\n",
       "      <td>75</td>\n",
       "    </tr>\n",
       "    <tr>\n",
       "      <th>8</th>\n",
       "      <td>39</td>\n",
       "      <td>5</td>\n",
       "    </tr>\n",
       "    <tr>\n",
       "      <th>9</th>\n",
       "      <td>21</td>\n",
       "      <td>59</td>\n",
       "    </tr>\n",
       "  </tbody>\n",
       "</table>\n",
       "</div>"
      ],
      "text/plain": [
       "   gasto_tri  gasto_nm\n",
       "0         19        47\n",
       "1         83        76\n",
       "2         61        81\n",
       "3          6        74\n",
       "4          4        70\n",
       "5         61        22\n",
       "6         70        99\n",
       "7         39        75\n",
       "8         39         5\n",
       "9         21        59"
      ]
     },
     "execution_count": 8,
     "metadata": {},
     "output_type": "execute_result"
    }
   ],
   "source": [
    "import matplotlib.pyplot as plt\n",
    "%matplotlib inline\n",
    "\n",
    "from sklearn.preprocessing import QuantileTransformer\n",
    "\n",
    "df = pd.DataFrame(np.random.randint(0,100,size=(10, 2)), columns=['gasto_tri','gasto_nm'])\n",
    "df"
   ]
  },
  {
   "cell_type": "code",
   "execution_count": 9,
   "metadata": {},
   "outputs": [
    {
     "data": {
      "text/html": [
       "<div>\n",
       "<style scoped>\n",
       "    .dataframe tbody tr th:only-of-type {\n",
       "        vertical-align: middle;\n",
       "    }\n",
       "\n",
       "    .dataframe tbody tr th {\n",
       "        vertical-align: top;\n",
       "    }\n",
       "\n",
       "    .dataframe thead th {\n",
       "        text-align: right;\n",
       "    }\n",
       "</style>\n",
       "<table border=\"1\" class=\"dataframe\">\n",
       "  <thead>\n",
       "    <tr style=\"text-align: right;\">\n",
       "      <th></th>\n",
       "      <th>gasto_tri</th>\n",
       "      <th>gasto_tri_RankGauss</th>\n",
       "    </tr>\n",
       "  </thead>\n",
       "  <tbody>\n",
       "    <tr>\n",
       "      <th>0</th>\n",
       "      <td>19</td>\n",
       "      <td>-0.764710</td>\n",
       "    </tr>\n",
       "    <tr>\n",
       "      <th>1</th>\n",
       "      <td>83</td>\n",
       "      <td>5.199338</td>\n",
       "    </tr>\n",
       "    <tr>\n",
       "      <th>2</th>\n",
       "      <td>61</td>\n",
       "      <td>0.764710</td>\n",
       "    </tr>\n",
       "    <tr>\n",
       "      <th>3</th>\n",
       "      <td>6</td>\n",
       "      <td>-1.220640</td>\n",
       "    </tr>\n",
       "    <tr>\n",
       "      <th>4</th>\n",
       "      <td>4</td>\n",
       "      <td>-5.199338</td>\n",
       "    </tr>\n",
       "    <tr>\n",
       "      <th>5</th>\n",
       "      <td>61</td>\n",
       "      <td>0.764710</td>\n",
       "    </tr>\n",
       "    <tr>\n",
       "      <th>6</th>\n",
       "      <td>70</td>\n",
       "      <td>1.220640</td>\n",
       "    </tr>\n",
       "    <tr>\n",
       "      <th>7</th>\n",
       "      <td>39</td>\n",
       "      <td>0.000000</td>\n",
       "    </tr>\n",
       "    <tr>\n",
       "      <th>8</th>\n",
       "      <td>39</td>\n",
       "      <td>0.000000</td>\n",
       "    </tr>\n",
       "    <tr>\n",
       "      <th>9</th>\n",
       "      <td>21</td>\n",
       "      <td>-0.430727</td>\n",
       "    </tr>\n",
       "  </tbody>\n",
       "</table>\n",
       "</div>"
      ],
      "text/plain": [
       "   gasto_tri  gasto_tri_RankGauss\n",
       "0         19            -0.764710\n",
       "1         83             5.199338\n",
       "2         61             0.764710\n",
       "3          6            -1.220640\n",
       "4          4            -5.199338\n",
       "5         61             0.764710\n",
       "6         70             1.220640\n",
       "7         39             0.000000\n",
       "8         39             0.000000\n",
       "9         21            -0.430727"
      ]
     },
     "execution_count": 9,
     "metadata": {},
     "output_type": "execute_result"
    }
   ],
   "source": [
    "transformer = QuantileTransformer(n_quantiles=10, random_state=1111, output_distribution='normal')\n",
    "transformer.fit(df[['gasto_tri']])\n",
    "df['gasto_tri_RankGauss'] = transformer.transform(df[['gasto_tri']])\n",
    "df[['gasto_tri','gasto_tri_RankGauss']]"
   ]
  },
  {
   "cell_type": "markdown",
   "metadata": {},
   "source": [
    "## Rango\n",
    "Este método funciona convirtiendo los valores numéricos en rangos de valores. Cuando se analiza el número de clientes en una tienda, es probable que el número de clientes en días festivos sea mucho mayor que el de los días de semana. Cambiar los números a rangos puede neutralizar el impacto del número absoluto de clientes."
   ]
  },
  {
   "cell_type": "code",
   "execution_count": 10,
   "metadata": {},
   "outputs": [
    {
     "data": {
      "text/html": [
       "<div>\n",
       "<style scoped>\n",
       "    .dataframe tbody tr th:only-of-type {\n",
       "        vertical-align: middle;\n",
       "    }\n",
       "\n",
       "    .dataframe tbody tr th {\n",
       "        vertical-align: top;\n",
       "    }\n",
       "\n",
       "    .dataframe thead th {\n",
       "        text-align: right;\n",
       "    }\n",
       "</style>\n",
       "<table border=\"1\" class=\"dataframe\">\n",
       "  <thead>\n",
       "    <tr style=\"text-align: right;\">\n",
       "      <th></th>\n",
       "      <th>gasto_tri</th>\n",
       "    </tr>\n",
       "  </thead>\n",
       "  <tbody>\n",
       "    <tr>\n",
       "      <th>0</th>\n",
       "      <td>98</td>\n",
       "    </tr>\n",
       "    <tr>\n",
       "      <th>1</th>\n",
       "      <td>32</td>\n",
       "    </tr>\n",
       "    <tr>\n",
       "      <th>2</th>\n",
       "      <td>31</td>\n",
       "    </tr>\n",
       "    <tr>\n",
       "      <th>3</th>\n",
       "      <td>76</td>\n",
       "    </tr>\n",
       "    <tr>\n",
       "      <th>4</th>\n",
       "      <td>56</td>\n",
       "    </tr>\n",
       "    <tr>\n",
       "      <th>5</th>\n",
       "      <td>47</td>\n",
       "    </tr>\n",
       "    <tr>\n",
       "      <th>6</th>\n",
       "      <td>4</td>\n",
       "    </tr>\n",
       "    <tr>\n",
       "      <th>7</th>\n",
       "      <td>9</td>\n",
       "    </tr>\n",
       "    <tr>\n",
       "      <th>8</th>\n",
       "      <td>21</td>\n",
       "    </tr>\n",
       "    <tr>\n",
       "      <th>9</th>\n",
       "      <td>56</td>\n",
       "    </tr>\n",
       "  </tbody>\n",
       "</table>\n",
       "</div>"
      ],
      "text/plain": [
       "   gasto_tri\n",
       "0         98\n",
       "1         32\n",
       "2         31\n",
       "3         76\n",
       "4         56\n",
       "5         47\n",
       "6          4\n",
       "7          9\n",
       "8         21\n",
       "9         56"
      ]
     },
     "execution_count": 10,
     "metadata": {},
     "output_type": "execute_result"
    }
   ],
   "source": [
    "import pandas as pd\n",
    "\n",
    "df = pd.DataFrame(np.random.randint(0,100,size=(10, 1)), columns=['gasto_tri'])\n",
    "df"
   ]
  },
  {
   "cell_type": "code",
   "execution_count": 11,
   "metadata": {},
   "outputs": [
    {
     "data": {
      "text/html": [
       "<div>\n",
       "<style scoped>\n",
       "    .dataframe tbody tr th:only-of-type {\n",
       "        vertical-align: middle;\n",
       "    }\n",
       "\n",
       "    .dataframe tbody tr th {\n",
       "        vertical-align: top;\n",
       "    }\n",
       "\n",
       "    .dataframe thead th {\n",
       "        text-align: right;\n",
       "    }\n",
       "</style>\n",
       "<table border=\"1\" class=\"dataframe\">\n",
       "  <thead>\n",
       "    <tr style=\"text-align: right;\">\n",
       "      <th></th>\n",
       "      <th>gasto_tri</th>\n",
       "      <th>gasto_tri_rank</th>\n",
       "    </tr>\n",
       "  </thead>\n",
       "  <tbody>\n",
       "    <tr>\n",
       "      <th>0</th>\n",
       "      <td>98</td>\n",
       "      <td>10</td>\n",
       "    </tr>\n",
       "    <tr>\n",
       "      <th>1</th>\n",
       "      <td>32</td>\n",
       "      <td>5</td>\n",
       "    </tr>\n",
       "    <tr>\n",
       "      <th>2</th>\n",
       "      <td>31</td>\n",
       "      <td>4</td>\n",
       "    </tr>\n",
       "    <tr>\n",
       "      <th>3</th>\n",
       "      <td>76</td>\n",
       "      <td>9</td>\n",
       "    </tr>\n",
       "    <tr>\n",
       "      <th>4</th>\n",
       "      <td>56</td>\n",
       "      <td>7</td>\n",
       "    </tr>\n",
       "    <tr>\n",
       "      <th>5</th>\n",
       "      <td>47</td>\n",
       "      <td>6</td>\n",
       "    </tr>\n",
       "    <tr>\n",
       "      <th>6</th>\n",
       "      <td>4</td>\n",
       "      <td>1</td>\n",
       "    </tr>\n",
       "    <tr>\n",
       "      <th>7</th>\n",
       "      <td>9</td>\n",
       "      <td>2</td>\n",
       "    </tr>\n",
       "    <tr>\n",
       "      <th>8</th>\n",
       "      <td>21</td>\n",
       "      <td>3</td>\n",
       "    </tr>\n",
       "    <tr>\n",
       "      <th>9</th>\n",
       "      <td>56</td>\n",
       "      <td>7</td>\n",
       "    </tr>\n",
       "  </tbody>\n",
       "</table>\n",
       "</div>"
      ],
      "text/plain": [
       "   gasto_tri  gasto_tri_rank\n",
       "0         98              10\n",
       "1         32               5\n",
       "2         31               4\n",
       "3         76               9\n",
       "4         56               7\n",
       "5         47               6\n",
       "6          4               1\n",
       "7          9               2\n",
       "8         21               3\n",
       "9         56               7"
      ]
     },
     "execution_count": 11,
     "metadata": {},
     "output_type": "execute_result"
    }
   ],
   "source": [
    "df['gasto_tri_rank'] = df.gasto_tri.rank().astype('int')  \n",
    "df[['gasto_tri','gasto_tri_rank']]"
   ]
  },
  {
   "cell_type": "markdown",
   "metadata": {},
   "source": [
    "## Escala min-max\n",
    "La escala mín-máx es otra de las simples transformaciones de las variables numéricas. Con la escala mín-máx, los valores deben ser convertidos a los valores dentro de [0,1].\n",
    "\n"
   ]
  },
  {
   "cell_type": "code",
   "execution_count": 12,
   "metadata": {},
   "outputs": [
    {
     "name": "stdout",
     "output_type": "stream",
     "text": [
      "train:\n",
      "    var1\n",
      "0    -1\n",
      "1     0\n",
      "2     1\n",
      "3     2\n",
      "test:\n",
      "    var1\n",
      "0   2.5\n",
      "transformación train:\n",
      "           0\n",
      "0  0.000000\n",
      "1  0.333333\n",
      "2  0.666667\n",
      "3  1.000000\n",
      "transformación test:\n",
      "           0\n",
      "0  1.166667\n"
     ]
    }
   ],
   "source": [
    "import pandas as pd\n",
    "from sklearn.preprocessing import MinMaxScaler\n",
    "\n",
    "train_data = pd.DataFrame({'var1':[-1, 0, 1, 2]})\n",
    "test_data = pd.DataFrame({'var1':[2.5]})\n",
    "\n",
    "print(\"train:\\n\", train_data)\n",
    "print(\"test:\\n\", test_data)\n",
    "\n",
    "scaler = MinMaxScaler()\n",
    "scaler.fit(train_data)\n",
    "print(\"transformación train:\\n\", pd.DataFrame(scaler.transform(train_data)))\n",
    "print(\"transformación test:\\n\", pd.DataFrame(scaler.transform(test_data)))"
   ]
  },
  {
   "cell_type": "code",
   "execution_count": 13,
   "metadata": {},
   "outputs": [
    {
     "name": "stdout",
     "output_type": "stream",
     "text": [
      "transformación train:\n",
      "           0\n",
      "0  0.000000\n",
      "1  0.003984\n",
      "2  0.007968\n",
      "3  1.000000\n"
     ]
    }
   ],
   "source": [
    "train_data = pd.DataFrame({'var1':[-1, 0, 1, 250]}) # Data including outlier.\n",
    "scaler = MinMaxScaler()\n",
    "scaler.fit(train_data)\n",
    "print(\"transformación train:\\n\", pd.DataFrame(scaler.transform(train_data)))"
   ]
  },
  {
   "cell_type": "markdown",
   "metadata": {},
   "source": [
    "## Transformación logarítmica\n",
    "Cuando la distribución de la variable tiene una distribución de larga duración (long-tailed distribution) (por ejemplo, ingresos individuales, gastos médicos individuales, etc.), las transformaciones logarítmicas pueden ajustar la distribución de los datos a una distribución menos sesgada, por ejemplo, de tipo gaussiano."
   ]
  },
  {
   "cell_type": "code",
   "execution_count": 14,
   "metadata": {},
   "outputs": [
    {
     "name": "stdout",
     "output_type": "stream",
     "text": [
      "train:\n",
      "      var1\n",
      "0       1\n",
      "1      10\n",
      "2     100\n",
      "3    1000\n",
      "4   10000\n",
      "5  100000\n",
      "transformación train:\n",
      "         var1\n",
      "0   0.693147\n",
      "1   2.397895\n",
      "2   4.615121\n",
      "3   6.908755\n",
      "4   9.210440\n",
      "5  11.512935\n"
     ]
    }
   ],
   "source": [
    "import pandas as pd\n",
    "import numpy as np\n",
    "\n",
    "train_data = pd.DataFrame({'var1':[1,10, 100, 1000, 10000, 100000]})\n",
    "test_data = pd.DataFrame({'var1':[2.5]})\n",
    "\n",
    "print(\"train:\\n\", train_data)\n",
    "print(\"transformación train:\\n\", pd.DataFrame(np.log1p(train_data)))"
   ]
  },
  {
   "cell_type": "code",
   "execution_count": 16,
   "metadata": {},
   "outputs": [
    {
     "data": {
      "text/plain": [
       "<matplotlib.axes._subplots.AxesSubplot at 0x19a9646c08>"
      ]
     },
     "execution_count": 16,
     "metadata": {},
     "output_type": "execute_result"
    },
    {
     "data": {
      "image/png": "[encoded data removed]",
      "text/plain": [
       "<Figure size 432x288 with 1 Axes>"
      ]
     },
     "metadata": {
      "needs_background": "light"
     },
     "output_type": "display_data"
    }
   ],
   "source": [
    "df.plot()"
   ]
  },
  {
   "cell_type": "code",
   "execution_count": null,
   "metadata": {},
   "outputs": [],
   "source": []
  }
 ],
 "metadata": {
  "kernelspec": {
   "display_name": "Python 3",
   "language": "python",
   "name": "python3"
  },
  "language_info": {
   "codemirror_mode": {
    "name": "ipython",
    "version": 3
   },
   "file_extension": ".py",
   "mimetype": "text/x-python",
   "name": "python",
   "nbconvert_exporter": "python",
   "pygments_lexer": "ipython3",
   "version": "3.7.6"
  }
 },
 "nbformat": 4,
 "nbformat_minor": 4
}
